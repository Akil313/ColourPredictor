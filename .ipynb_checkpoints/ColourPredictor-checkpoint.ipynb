{
 "cells": [
  {
   "cell_type": "code",
   "execution_count": 3,
   "metadata": {},
   "outputs": [],
   "source": [
    "#!jupyter nbconvert --to script ColourPredictor.ipynb"
   ]
  },
  {
   "cell_type": "code",
   "execution_count": 2,
   "metadata": {},
   "outputs": [],
   "source": [
    "from tkinter import *\n",
    "from PIL import Image, ImageTk"
   ]
  },
  {
   "cell_type": "code",
   "execution_count": 14,
   "metadata": {},
   "outputs": [],
   "source": [
    "#Creating Window class and inheriting from Frame class\n",
    "class Window(Frame):\n",
    "    \n",
    "    #Defining settings upon init\n",
    "    def __init__(self, master = None):\n",
    "        \n",
    "        # parameters to send through Frame class\n",
    "        Frame.__init__(self, master)\n",
    "        \n",
    "        # reference to master widget\n",
    "        self.master = master\n",
    "        \n",
    "        #run init_window()\n",
    "        self.init_window()\n",
    "        \n",
    "    def init_window(self):\n",
    "        \n",
    "        # Changing title of master widget\n",
    "        self.master.title(\"Colour Predictor\")\n",
    "        \n",
    "        # allowing widget to take full space of root window\n",
    "        self.pack(fill=BOTH, expand=1)\n",
    "        \n",
    "        # creating button instance\n",
    "        #quitButton = Button(self, text=\"Quit\", command=self.client_exit)\n",
    "        # placing button\n",
    "        #quitButton.place(x=0, y=0)\n",
    "        \n",
    "        menu = Menu(self.master)\n",
    "        self.master.config(menu = menu)\n",
    "        \n",
    "        #Creating File\n",
    "        file = Menu(menu)\n",
    "        file.add_command(label='Exit', command=self.client_exit)\n",
    "        menu.add_cascade(label='File', menu=file)\n",
    "        \n",
    "        #Creating Edit\n",
    "        edit = Menu(menu)\n",
    "        edit.add_command(label='Show Image', command=self.showImg)\n",
    "        edit.add_command(label='Show Text', command=self.showText)\n",
    "        menu.add_cascade(label='Edit', menu=edit)\n",
    "        \n",
    "    def client_exit(self):\n",
    "        exit()\n",
    "    \n",
    "    def showImg(self):\n",
    "        load = Image.open('doggo.png')\n",
    "        render = ImageTk.PhotoImage(load)\n",
    "        \n",
    "        img = Label(self, image=render)\n",
    "        img.image = render\n",
    "        img.place(x=0, y=0)\n",
    "        \n",
    "    def showText(self):\n",
    "        text = Label(self, text=\"This better work\")\n",
    "        text.pack()"
   ]
  },
  {
   "cell_type": "code",
   "execution_count": 18,
   "metadata": {},
   "outputs": [],
   "source": [
    "#root window created here.\n",
    "root = Tk()\n",
    "\n",
    "canvas = Canvas(root, height=300, width=400)\n",
    "canvas.pack()\n",
    "#root.geometry(\"400x300\")\n",
    "\n",
    "#creation of instance\n",
    "app = Window(root)\n",
    "\n",
    "#mainloop\n",
    "root.mainloop()"
   ]
  }
 ],
 "metadata": {
  "kernelspec": {
   "display_name": "Python 3",
   "language": "python",
   "name": "python3"
  },
  "language_info": {
   "codemirror_mode": {
    "name": "ipython",
    "version": 3
   },
   "file_extension": ".py",
   "mimetype": "text/x-python",
   "name": "python",
   "nbconvert_exporter": "python",
   "pygments_lexer": "ipython3",
   "version": "3.6.5"
  }
 },
 "nbformat": 4,
 "nbformat_minor": 2
}
