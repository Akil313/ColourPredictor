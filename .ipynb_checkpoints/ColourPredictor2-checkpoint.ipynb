{
 "cells": [
  {
   "cell_type": "code",
   "execution_count": 3,
   "metadata": {},
   "outputs": [],
   "source": [
    "import tkinter as tk\n",
    "from tkinter import *\n",
    "import random\n",
    "\n",
    "LARGE_FONT = (\"Verdana\", 12)"
   ]
  },
  {
   "cell_type": "code",
   "execution_count": 4,
   "metadata": {},
   "outputs": [],
   "source": [
    "class cPredictor(tk.Tk):\n",
    "    \n",
    "    def __init__(self, *args, **kwargs):\n",
    "        \n",
    "        tk.Tk.__init__(self, *args, **kwargs)\n",
    "        \n",
    "        container = tk.Frame(self)\n",
    "        \n",
    "        container.pack(side=\"top\", fill=\"both\", expand=True)\n",
    "        \n",
    "        container.grid_rowconfigure(0, weight=1)\n",
    "        container.grid_columnconfigure(0, weight=1)\n",
    "        \n",
    "        self.frames = {}\n",
    "        \n",
    "        frame = StartPage(container, self)\n",
    "        \n",
    "        self.frames[StartPage] = frame\n",
    "        \n",
    "        frame.grid(row=0, column=0, stick=\"nsew\")\n",
    "        \n",
    "        self.show_frame(StartPage)\n",
    "        \n",
    "    def show_frame(self, cont):\n",
    "        \n",
    "        frame = self.frames[cont]\n",
    "        frame.tkraise()"
   ]
  },
  {
   "cell_type": "code",
   "execution_count": 38,
   "metadata": {},
   "outputs": [],
   "source": [
    "class StartPage(tk.Frame):\n",
    "    \n",
    "    def __init__(self, parent, controller):\n",
    "        self.circ1Count = 0\n",
    "        self.circ2Count = 0\n",
    "    \n",
    "        tk.Frame.__init__(self, parent)\n",
    "        label = tk.Label(self, text='StartPage', font=LARGE_FONT)\n",
    "        label.pack(pady=10, padx=10)\n",
    "        \n",
    "        cHeight = cWidth = 500\n",
    "        \n",
    "        self.c = Canvas(self, height=cHeight, width=cWidth)\n",
    "        \n",
    "        col = self.genRandColour()\n",
    "        \n",
    "        \n",
    "        \n",
    "        self.circ1 = self.c.create_oval(cWidth/8,\n",
    "                                        cHeight/2,\n",
    "                                        (cWidth/4)+cWidth/8,\n",
    "                                        (cHeight/2)+cHeight/4,\n",
    "                                        fill=col,\n",
    "                                        tags=\"circ1\")\n",
    "        self.blackLab = self.c.create_text((125, 310), text=\"Black\", font=LARGE_FONT, tags='blackLab')\n",
    "        \n",
    "        self.circ2 = self.c.create_oval(cWidth/2 + cWidth/8, \n",
    "                                        cHeight/2, \n",
    "                                        cWidth/2 + cWidth/4 + cHeight/8, \n",
    "                                        cHeight/2 + cHeight/4, \n",
    "                                        fill=col, \n",
    "                                        tags=\"circ2\")\n",
    "        self.whiteLab = self.c.create_text((375, 310), text=\"White\", fill=\"white\", font=LARGE_FONT, tags='whiteLab')\n",
    "        \n",
    "        self.c.tag_bind(\"circ1\", \"<Button-1>\", self.circ1Clicked)\n",
    "        self.c.tag_bind(\"blackLab\", \"<Button-1>\", self.circ1Clicked)\n",
    "        \n",
    "        self.c.tag_bind(\"circ2\", \"<Button-1>\", self.circ2Clicked)\n",
    "        self.c.tag_bind(\"whiteLab\", \"<Button-1>\", self.circ2Clicked)\n",
    "        \n",
    "        self.c.bind(\"<Button-3>\", self.rightClicked)\n",
    "        \n",
    "        self.c.pack()\n",
    "        \n",
    "    def refresh(self, *args):\n",
    "        col = self.genRandColour()\n",
    "        self.c.itemconfig(self.circ1, fill=col)\n",
    "        self.c.itemconfig(self.circ2, fill=col)\n",
    "        \n",
    "    def circ1Clicked(self, *args):\n",
    "        self.circ1Count += 1\n",
    "        print(self.circ1Count)\n",
    "        self.refresh()\n",
    "        \n",
    "    def circ2Clicked(self, *args):\n",
    "        self.circ2Count += 1\n",
    "        print(self.circ2Count)\n",
    "        self.refresh()\n",
    "        \n",
    "    def rightClicked(self, *args):\n",
    "        print(\"circ1Count: \", self.circ1Count, \" circ2Count: \", self.circ2Count)\n",
    "        \n",
    "    def genRandColour(self):\n",
    "        colourVals = ['0', '1', '2', '3', '4', '5', '6', '7', '8', '9', 'a', 'b', 'c', 'd', 'e', 'f']\n",
    "        \n",
    "        randCol = '#' + random.choice(colourVals) + random.choice(colourVals) + random.choice(colourVals) + random.choice(colourVals) + random.choice(colourVals) + random.choice(colourVals)\n",
    "        \n",
    "        print(randCol)\n",
    "        \n",
    "        return randCol"
   ]
  },
  {
   "cell_type": "code",
   "execution_count": 39,
   "metadata": {},
   "outputs": [
    {
     "name": "stdout",
     "output_type": "stream",
     "text": [
      "#d3902a\n",
      "1\n",
      "#fcddcd\n",
      "1\n",
      "#9e4f05\n",
      "circ1Count:  1  circ2Count:  1\n",
      "circ1Count:  1  circ2Count:  1\n",
      "circ1Count:  1  circ2Count:  1\n"
     ]
    }
   ],
   "source": [
    "app = cPredictor()\n",
    "app.mainloop()"
   ]
  }
 ],
 "metadata": {
  "kernelspec": {
   "display_name": "Python 3",
   "language": "python",
   "name": "python3"
  },
  "language_info": {
   "codemirror_mode": {
    "name": "ipython",
    "version": 3
   },
   "file_extension": ".py",
   "mimetype": "text/x-python",
   "name": "python",
   "nbconvert_exporter": "python",
   "pygments_lexer": "ipython3",
   "version": "3.6.5"
  }
 },
 "nbformat": 4,
 "nbformat_minor": 2
}
