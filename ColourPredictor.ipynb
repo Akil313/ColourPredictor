{
 "cells": [
  {
   "cell_type": "code",
   "execution_count": 3,
   "metadata": {},
   "outputs": [],
   "source": [
    "#!jupyter nbconvert --to script ColourPredictor.ipynb"
   ]
  },
  {
   "cell_type": "code",
   "execution_count": 2,
   "metadata": {},
   "outputs": [],
   "source": [
    "from tkinter import *\n",
    "from PIL import Image, ImageTk"
   ]
  },
  {
   "cell_type": "code",
   "execution_count": 24,
   "metadata": {},
   "outputs": [],
   "source": [
    "#Creating Window class and inheriting from Frame class\n",
    "class Window(Frame):\n",
    "    \n",
    "    #Defining settings upon init\n",
    "    def __init__(self, master = None):\n",
    "        "
   ]
  },
  {
   "cell_type": "code",
   "execution_count": 26,
   "metadata": {},
   "outputs": [],
   "source": [
    "#root window created here.\n",
    "root = Tk()\n",
    "\n",
    "canvas = Canvas(root, height=300, width=400)\n",
    "canvas.pack()\n",
    "#root.geometry(\"400x300\")\n",
    "\n",
    "#creation of instance\n",
    "app = Window(root)\n",
    "\n",
    "#mainloop\n",
    "root.mainloop()"
   ]
  }
 ],
 "metadata": {
  "kernelspec": {
   "display_name": "Python 3",
   "language": "python",
   "name": "python3"
  },
  "language_info": {
   "codemirror_mode": {
    "name": "ipython",
    "version": 3
   },
   "file_extension": ".py",
   "mimetype": "text/x-python",
   "name": "python",
   "nbconvert_exporter": "python",
   "pygments_lexer": "ipython3",
   "version": "3.6.5"
  }
 },
 "nbformat": 4,
 "nbformat_minor": 2
}
